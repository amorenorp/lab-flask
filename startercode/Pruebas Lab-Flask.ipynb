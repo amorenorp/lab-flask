{
 "cells": [
  {
   "cell_type": "code",
   "execution_count": 5,
   "id": "sublime-consultation",
   "metadata": {},
   "outputs": [],
   "source": [
    "from pymongo import MongoClient\n",
    "import pymongo"
   ]
  },
  {
   "cell_type": "code",
   "execution_count": 6,
   "id": "available-southwest",
   "metadata": {},
   "outputs": [],
   "source": [
    "client = pymongo.MongoClient(\"mongodb://localhost:27017/\") "
   ]
  },
  {
   "cell_type": "code",
   "execution_count": 7,
   "id": "wireless-priest",
   "metadata": {},
   "outputs": [],
   "source": [
    "db = client.labflask"
   ]
  },
  {
   "cell_type": "code",
   "execution_count": 8,
   "id": "corrected-accused",
   "metadata": {},
   "outputs": [
    {
     "data": {
      "text/plain": [
       "['movies', 'celebs']"
      ]
     },
     "execution_count": 8,
     "metadata": {},
     "output_type": "execute_result"
    }
   ],
   "source": [
    "db.list_collection_names()\n"
   ]
  },
  {
   "cell_type": "code",
   "execution_count": 9,
   "id": "stretch-relative",
   "metadata": {},
   "outputs": [],
   "source": [
    "collec = db.celebs"
   ]
  },
  {
   "cell_type": "code",
   "execution_count": null,
   "id": "affected-caribbean",
   "metadata": {},
   "outputs": [],
   "source": [
    "prueba = {\n",
    "    \"Name\" : \"Timothee Chalamet\",\n",
    "    \"occupation\": \"Actor\",\n",
    "    \"catch_phrase\": \"unknown\"\n",
    "    \n",
    "}"
   ]
  },
  {
   "cell_type": "code",
   "execution_count": null,
   "id": "faced-continent",
   "metadata": {},
   "outputs": [],
   "source": [
    "#insert_prueba = collec.insert_one(prueba)"
   ]
  },
  {
   "cell_type": "code",
   "execution_count": null,
   "id": "proper-hebrew",
   "metadata": {},
   "outputs": [],
   "source": [
    "def insert_data_celebrity(name, occupation, catch_phrase = \"None\"):\n",
    "    \n",
    "    dic = {\n",
    "        \"Name\": f\"{name}\",\n",
    "        \"occupation\": f\"{occupation}\",\n",
    "        \"catch_phrase\": f\"{catch_phrase}\"   \n",
    "    }\n",
    "    \n",
    "    i = db.celebs.insert_one(dic)\n",
    "    \n",
    "    return i"
   ]
  },
  {
   "cell_type": "code",
   "execution_count": null,
   "id": "accredited-distinction",
   "metadata": {},
   "outputs": [],
   "source": [
    " #insert_data(\"Brad Pitt\", \"Actor\", \"hola\")   # {\"_id\": ObjectId(\"602d48a47c919003751718ac\")}"
   ]
  },
  {
   "cell_type": "code",
   "execution_count": 35,
   "id": "jewish-arbor",
   "metadata": {},
   "outputs": [],
   "source": [
    "from bson.objectid import ObjectId"
   ]
  },
  {
   "cell_type": "code",
   "execution_count": 41,
   "id": "provincial-avenue",
   "metadata": {},
   "outputs": [],
   "source": [
    "def details(id):\n",
    "    \n",
    "    return db.celebs.find({\"_id\": ObjectId(id)},{\"_id\":0})\n",
    "    \n",
    "   "
   ]
  },
  {
   "cell_type": "code",
   "execution_count": 42,
   "id": "certified-driver",
   "metadata": {},
   "outputs": [
    {
     "data": {
      "text/plain": [
       "[{'Name': 'Timothee Chalamet',\n",
       "  'occupation': 'Actor',\n",
       "  'catch_phrase': 'unknown'}]"
      ]
     },
     "execution_count": 42,
     "metadata": {},
     "output_type": "execute_result"
    }
   ],
   "source": [
    "list(details(\"602d48a47c919003751718ac\"))"
   ]
  },
  {
   "cell_type": "code",
   "execution_count": null,
   "id": "honey-index",
   "metadata": {},
   "outputs": [],
   "source": []
  },
  {
   "cell_type": "code",
   "execution_count": 38,
   "id": "compound-indonesia",
   "metadata": {},
   "outputs": [
    {
     "data": {
      "text/plain": [
       "[{'Name': 'Timothee Chalamet',\n",
       "  'occupation': 'Actor',\n",
       "  'catch_phrase': 'unknown'}]"
      ]
     },
     "execution_count": 38,
     "metadata": {},
     "output_type": "execute_result"
    }
   ],
   "source": [
    "list(db.celebs.find({\"_id\": ObjectId(\"602d48a47c919003751718ac\")},{\"_id\":0}))"
   ]
  },
  {
   "cell_type": "code",
   "execution_count": 44,
   "id": "miniature-municipality",
   "metadata": {},
   "outputs": [],
   "source": [
    "#Prueba borrar una linea"
   ]
  },
  {
   "cell_type": "code",
   "execution_count": 43,
   "id": "charitable-expansion",
   "metadata": {},
   "outputs": [
    {
     "name": "stderr",
     "output_type": "stream",
     "text": [
      "<ipython-input-43-10791dd7cf9c>:1: DeprecationWarning: remove is deprecated. Use delete_one or delete_many instead.\n",
      "  db.celebs.remove({\"_id\": ObjectId(\"602d6fe4a6bf973784368add\")})\n"
     ]
    },
    {
     "data": {
      "text/plain": [
       "{'n': 1, 'ok': 1.0}"
      ]
     },
     "execution_count": 43,
     "metadata": {},
     "output_type": "execute_result"
    }
   ],
   "source": [
    "db.celebs.remove({\"_id\": ObjectId(\"602d6fe4a6bf973784368add\")})"
   ]
  },
  {
   "cell_type": "code",
   "execution_count": 45,
   "id": "boolean-layout",
   "metadata": {},
   "outputs": [],
   "source": [
    "def borrar_id(id):\n",
    "    return db.celebs.remove({\"_id\": ObjectId(id)})"
   ]
  },
  {
   "cell_type": "code",
   "execution_count": 47,
   "id": "built-pencil",
   "metadata": {},
   "outputs": [
    {
     "name": "stderr",
     "output_type": "stream",
     "text": [
      "<ipython-input-45-23534e3f1522>:2: DeprecationWarning: remove is deprecated. Use delete_one or delete_many instead.\n",
      "  return db.celebs.remove({\"_id\": ObjectId(id)})\n"
     ]
    },
    {
     "data": {
      "text/plain": [
       "{'n': 1, 'ok': 1.0}"
      ]
     },
     "execution_count": 47,
     "metadata": {},
     "output_type": "execute_result"
    }
   ],
   "source": [
    "borrar_id(\"602d6f9fa113c26b9bcf8e26\")"
   ]
  },
  {
   "cell_type": "code",
   "execution_count": null,
   "id": "responsible-gardening",
   "metadata": {},
   "outputs": [],
   "source": []
  },
  {
   "cell_type": "code",
   "execution_count": null,
   "id": "special-recall",
   "metadata": {},
   "outputs": [],
   "source": []
  },
  {
   "cell_type": "code",
   "execution_count": null,
   "id": "developmental-sewing",
   "metadata": {},
   "outputs": [],
   "source": []
  },
  {
   "cell_type": "code",
   "execution_count": null,
   "id": "spiritual-championship",
   "metadata": {},
   "outputs": [],
   "source": []
  },
  {
   "cell_type": "code",
   "execution_count": null,
   "id": "collected-orange",
   "metadata": {},
   "outputs": [],
   "source": []
  },
  {
   "cell_type": "code",
   "execution_count": null,
   "id": "vertical-litigation",
   "metadata": {},
   "outputs": [],
   "source": []
  },
  {
   "cell_type": "code",
   "execution_count": null,
   "id": "abandoned-tribune",
   "metadata": {},
   "outputs": [],
   "source": [
    "from flask import Flask, request"
   ]
  },
  {
   "cell_type": "code",
   "execution_count": null,
   "id": "engaging-freedom",
   "metadata": {},
   "outputs": [],
   "source": [
    "from bson import json_util"
   ]
  },
  {
   "cell_type": "code",
   "execution_count": null,
   "id": "civil-breast",
   "metadata": {},
   "outputs": [],
   "source": [
    "app = Flask(\"lab_api\") #http://127.0.0.1:5000/"
   ]
  },
  {
   "cell_type": "code",
   "execution_count": null,
   "id": "latest-energy",
   "metadata": {},
   "outputs": [],
   "source": [
    "#app.run()"
   ]
  },
  {
   "cell_type": "code",
   "execution_count": null,
   "id": "pending-stack",
   "metadata": {},
   "outputs": [],
   "source": [
    "@app.route(\"/hola\")\n",
    "def root2():\n",
    "    \n",
    "    return \"Hola\"\n"
   ]
  },
  {
   "cell_type": "code",
   "execution_count": null,
   "id": "wrapped-disability",
   "metadata": {},
   "outputs": [],
   "source": [
    "app.run()"
   ]
  },
  {
   "cell_type": "code",
   "execution_count": null,
   "id": "public-respondent",
   "metadata": {},
   "outputs": [],
   "source": []
  }
 ],
 "metadata": {
  "kernelspec": {
   "display_name": "Python 3",
   "language": "python",
   "name": "python3"
  },
  "language_info": {
   "codemirror_mode": {
    "name": "ipython",
    "version": 3
   },
   "file_extension": ".py",
   "mimetype": "text/x-python",
   "name": "python",
   "nbconvert_exporter": "python",
   "pygments_lexer": "ipython3",
   "version": "3.8.5"
  }
 },
 "nbformat": 4,
 "nbformat_minor": 5
}
